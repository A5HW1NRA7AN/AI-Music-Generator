{
  "nbformat": 4,
  "nbformat_minor": 0,
  "metadata": {
    "colab": {
      "provenance": []
    },
    "kernelspec": {
      "name": "python3",
      "display_name": "Python 3"
    },
    "language_info": {
      "name": "python"
    }
  },
  "cells": [
    {
      "cell_type": "code",
      "source": [
        "from music21 import *\n",
        "import numpy as np\n",
        "import os\n",
        "from collections import Counter\n",
        "from sklearn.model_selection import train_test_split"
      ],
      "metadata": {
        "id": "xS4f4BWHocq7"
      },
      "execution_count": null,
      "outputs": []
    },
    {
      "cell_type": "code",
      "source": [
        "from keras.layers import Conv1D, Dropout, MaxPool1D, Dense, Embedding, GlobalMaxPool1D\n",
        "from keras.callbacks import ModelCheckpoint\n",
        "from keras.models import Sequential\n",
        "import keras.backend as k"
      ],
      "metadata": {
        "id": "RVNkxVQVoj3I"
      },
      "execution_count": null,
      "outputs": []
    },
    {
      "cell_type": "code",
      "source": [
        "!pip install tensorflow==2.12.0\n",
        "!pip install keras==2.12.0"
      ],
      "metadata": {
        "id": "EDG3X5S7o60r"
      },
      "execution_count": null,
      "outputs": []
    },
    {
      "cell_type": "code",
      "source": [
        "def read_midi(file):\n",
        "    print(\"Loading music file\", file)\n",
        "\n",
        "    notes = []\n",
        "    notes_to_parse = None\n",
        "\n",
        "    midi = converter.parse(file) #parsing midi files\n",
        "\n",
        "    grp_ins = instrument.partitionByInstrument(midi) #partitioning based on different instrument\n",
        "\n",
        "    for part in grp_ins.parts:\n",
        "        if 'Piano' in str(part):\n",
        "            notes_to_parse = part.recurse()\n",
        "\n",
        "            # finding whether particular element is a note\n",
        "            for element in notes_to_parse:\n",
        "                if isinstance(element, note.Note):\n",
        "                    notes.append(str(element.pitch)) #note\n",
        "                elif isinstance(element, chord.Chord):\n",
        "                    notes.append('.'.join(str(n) for n in element.normalOrder)) #chord\n",
        "    return np.array(notes)"
      ],
      "metadata": {
        "id": "QI-MZ47LrMgS"
      },
      "execution_count": null,
      "outputs": []
    },
    {
      "cell_type": "code",
      "source": [
        "path = '/content/schubert'\n",
        "files = [i for i in os.listdir(path) if i.endswith(\".mid\")]\n",
        "notes_array = np.array([read_midi(os.path.join(path, i)) for i in files])\n",
        "# Use os.path.join to create the correct file path"
      ],
      "metadata": {
        "id": "scFvT9n9rOvI"
      },
      "execution_count": null,
      "outputs": []
    },
    {
      "cell_type": "code",
      "source": [
        "#converting 2d array to 1d array\n",
        "notes_ = [element for note_ in notes_array for element in note_]\n",
        "unique_notes = list(set(notes_))\n",
        "print(len(unique_notes))\n",
        "\n",
        "freq = dict(Counter(notes_))\n",
        "frequent_notes = [note_ for note_, count in freq.items() if count>=50]\n",
        "print(len(frequent_notes))"
      ],
      "metadata": {
        "id": "ReWqe15-rQmK"
      },
      "execution_count": null,
      "outputs": []
    },
    {
      "cell_type": "code",
      "source": [
        "#creating new array frequent music\n",
        "new_music = []\n",
        "for notes in notes_array:\n",
        "    temp = []\n",
        "    for note_ in notes:\n",
        "        if note_ in frequent_notes:\n",
        "            temp.append(note_)\n",
        "    new_music.append(temp)\n",
        "\n",
        "new_music = np.array(new_music)"
      ],
      "metadata": {
        "id": "wb7VbTpMrSj0"
      },
      "execution_count": null,
      "outputs": []
    },
    {
      "cell_type": "code",
      "source": [
        "#preparing input and output sequences\n",
        "\n",
        "no_of_timesteps = 32\n",
        "x = []\n",
        "y = []\n",
        "\n",
        "for note_ in new_music:\n",
        "    for i in range(0, len(note_) - no_of_timesteps, 1):\n",
        "\n",
        "        input_ = note_[i:i + no_of_timesteps]\n",
        "        output = note_[i + no_of_timesteps]\n",
        "\n",
        "        x.append(input_)\n",
        "        y.append(output)\n",
        "\n",
        "x=np.array(x)\n",
        "y=np.array(y)"
      ],
      "metadata": {
        "id": "haht6ZlZrUl2"
      },
      "execution_count": null,
      "outputs": []
    },
    {
      "cell_type": "code",
      "source": [
        "# assigning unique integer to every note\n",
        "unique_x = list(set(x.ravel()))\n",
        "x_note_to_int = dict((note_, number) for number, note_ in enumerate(unique_x))\n",
        "\n",
        "#preparing input sequences\n",
        "x_seq=[]\n",
        "for i in x:\n",
        "    temp=[]\n",
        "    for j in i:\n",
        "        #assigning unique integer to every note\n",
        "        temp.append(x_note_to_int[j])\n",
        "    x_seq.append(temp)\n",
        "\n",
        "x_seq = np.array(x_seq)"
      ],
      "metadata": {
        "id": "wizQUu4WrWdo"
      },
      "execution_count": null,
      "outputs": []
    },
    {
      "cell_type": "code",
      "source": [
        "#integer sequence for output\n",
        "unique_y = list(set(y))\n",
        "y_note_to_int = dict((note_, number) for number, note_ in enumerate(unique_y))\n",
        "y_seq=np.array([y_note_to_int[i] for i in y])\n",
        "\n",
        "# 80% training and rest 20% for evaluation\n",
        "x_tr, x_val, y_tr, y_val = train_test_split(x_seq,y_seq,test_size=0.2,random_state=0)"
      ],
      "metadata": {
        "id": "LcdliLdmrYW-"
      },
      "execution_count": null,
      "outputs": []
    },
    {
      "cell_type": "code",
      "source": [
        "from keras.layers import Conv1D, Dropout, MaxPool1D, Dense, Embedding, GlobalMaxPool1D\n",
        "from keras.callbacks import ModelCheckpoint\n",
        "from keras.models import Sequential\n",
        "import keras.backend as k\n",
        "\n",
        "k.clear_session()\n",
        "model = Sequential()\n",
        "\n",
        "#embedding layer\n",
        "model.add(Embedding(len(unique_x), 100, input_length=32,trainable=True))\n",
        "\n",
        "model.add(Conv1D(64,3, padding='causal',activation='relu'))\n",
        "model.add(Dropout(0.2))\n",
        "model.add(MaxPool1D(2))\n",
        "\n",
        "model.add(Conv1D(128,3,activation='relu',dilation_rate=2,padding='causal'))\n",
        "model.add(Dropout(0.2))\n",
        "model.add(MaxPool1D(2))\n",
        "\n",
        "model.add(Conv1D(256,3,activation='relu',dilation_rate=4,padding='causal'))\n",
        "model.add(Dropout(0.2))\n",
        "model.add(MaxPool1D(2))\n",
        "\n",
        "#model.add(Conv1D(256,5,activation='relu'))\n",
        "model.add(GlobalMaxPool1D())\n",
        "\n",
        "model.add(Dense(256, activation='relu'))\n",
        "model.add(Dense(len(unique_y), activation='softmax'))\n",
        "\n",
        "model.compile(loss='sparse_categorical_crossentropy', optimizer='adam')\n",
        "\n",
        "model.summary()"
      ],
      "metadata": {
        "id": "RXYWOFbxrajz"
      },
      "execution_count": null,
      "outputs": []
    },
    {
      "cell_type": "code",
      "source": [
        "mc=ModelCheckpoint('best_model.h5', monitor='val_loss', mode='min', save_best_only=True,verbose=1)"
      ],
      "metadata": {
        "id": "2EwkmyXprc2e"
      },
      "execution_count": null,
      "outputs": []
    },
    {
      "cell_type": "code",
      "source": [
        "history = model.fit(np.array(x_tr),np.array(y_tr),batch_size=128,epochs=50, validation_data=(np.array(x_val),np.array(y_val)),verbose=1, callbacks=[mc])"
      ],
      "metadata": {
        "id": "2lhHId7YrfC4"
      },
      "execution_count": null,
      "outputs": []
    },
    {
      "source": [
        "from tensorflow import keras\n",
        "model = keras.models.load_model('/content/best_model.h5')"
      ],
      "cell_type": "code",
      "metadata": {
        "id": "Bvori35spT_V"
      },
      "execution_count": null,
      "outputs": []
    },
    {
      "cell_type": "code",
      "source": [
        "# predicted integer values\n",
        "import random\n",
        "ind = np.random.randint(0,len(x_val)-1)\n",
        "\n",
        "random_music = x_val[ind]\n",
        "\n",
        "predictions=[]\n",
        "for i in range(45):\n",
        "\n",
        "    random_music = random_music.reshape(1,no_of_timesteps)\n",
        "\n",
        "    prob  = model.predict(random_music)[0]\n",
        "    y_pred= np.argmax(prob,axis=0)\n",
        "    predictions.append(y_pred)\n",
        "\n",
        "    random_music = np.insert(random_music[0],len(random_music[0]),y_pred)\n",
        "    random_music = random_music[1:]\n",
        "\n",
        "print(predictions)"
      ],
      "metadata": {
        "id": "WNzWbtR7oVBH"
      },
      "execution_count": null,
      "outputs": []
    },
    {
      "source": [
        "# predicted integer values\n",
        "import random\n",
        "ind = np.random.randint(0,len(x_val)-1)\n",
        "\n",
        "random_music = x_val[ind]\n",
        "\n",
        "predictions=[]\n",
        "for i in range(300):\n",
        "\n",
        "    random_music = random_music.reshape(1,no_of_timesteps)\n",
        "\n",
        "    prob  = model.predict(random_music)[0]\n",
        "\n",
        "    # Sample from the probability distribution instead of argmax\n",
        "    y_pred = np.random.choice(len(prob), p=prob)\n",
        "\n",
        "    predictions.append(y_pred)\n",
        "\n",
        "    random_music = np.insert(random_music[0],len(random_music[0]),y_pred)\n",
        "    random_music = random_music[1:]\n",
        "\n",
        "print(predictions)"
      ],
      "cell_type": "code",
      "metadata": {
        "id": "cjVvDGpE48iE"
      },
      "execution_count": null,
      "outputs": []
    },
    {
      "cell_type": "code",
      "source": [
        "import random\n",
        "\n",
        "# Extended \"Happy Birthday\" sequence (add more notes here)\n",
        "happy_birthday_notes = ['C4', 'C4', 'D4', 'C4', 'F4', 'E4',\n",
        "                        'C4', 'C4', 'D4', 'C4', 'G4', 'F4',\n",
        "                        'C4', 'C4', 'C5', 'A4', 'F4', 'E4',\n",
        "                        'D4', 'B4', 'B4', 'A4', 'F4', 'G4',\n",
        "                        'F4']\n",
        "\n",
        "# Convert notes to integers\n",
        "happy_birthday_seq = [x_note_to_int[note] for note in happy_birthday_notes if note in x_note_to_int]\n",
        "\n",
        "# Use the 'Happy Birthday' sequence as the starting point\n",
        "random_music = np.array(happy_birthday_seq)\n",
        "\n",
        "predictions = []\n",
        "for i in range(45):  # Generate 45 more notes\n",
        "    # Pad the input sequence if it's shorter than no_of_timesteps\n",
        "    if len(random_music) < no_of_timesteps:\n",
        "        random_music = np.pad(random_music, (no_of_timesteps - len(random_music), 0), 'constant')\n",
        "\n",
        "    random_music = random_music.reshape(1, no_of_timesteps)\n",
        "\n",
        "\n",
        "    prob = model.predict(random_music)[0]\n",
        "    y_pred = np.random.choice(len(prob), p=prob)\n",
        "    predictions.append(y_pred)\n",
        "\n",
        "    # Shift the input sequence and add the prediction\n",
        "    random_music = np.insert(random_music[0], len(random_music[0]), y_pred)\n",
        "    random_music = random_music[1:]\n",
        "    random_music = random_music[-no_of_timesteps:]  # Keep only the last 'no_of_timesteps' elements\n",
        "\n",
        "print(predictions)"
      ],
      "metadata": {
        "id": "ZH_51eb15mj8"
      },
      "execution_count": null,
      "outputs": []
    },
    {
      "cell_type": "code",
      "source": [
        "# converting integer back into notes\n",
        "\n",
        "x_int_to_note = dict((number, note_) for number, note_ in enumerate(unique_x))\n",
        "predicted_notes = [x_int_to_note[i] for i in predictions]"
      ],
      "metadata": {
        "id": "Rp6Md_nWoXG5"
      },
      "execution_count": null,
      "outputs": []
    },
    {
      "source": [
        "# converting the predictions to midi files\n",
        "def convert_to_midi(prediction_output):\n",
        "    offset = 0\n",
        "    output_notes = []\n",
        "\n",
        "    for pattern in prediction_output:\n",
        "\n",
        "        if ('.' in pattern) or pattern.isdigit():\n",
        "            notes_in_chord = pattern.split('.')\n",
        "            notes = []\n",
        "            for current_note in notes_in_chord:\n",
        "\n",
        "                cn=int(current_note)\n",
        "                new_note = note.Note(cn)\n",
        "                new_note.storedInstrument = instrument.Piano()\n",
        "                notes.append(new_note)\n",
        "\n",
        "            new_chord = chord.Chord(notes)\n",
        "            new_chord.offset = offset\n",
        "            output_notes.append(new_chord)\n",
        "\n",
        "        # pattern is a note\n",
        "        else:\n",
        "\n",
        "            new_note = note.Note(pattern)\n",
        "            new_note.offset = offset\n",
        "            new_note.storedInstrument = instrument.Piano()\n",
        "            output_notes.append(new_note)\n",
        "\n",
        "        offset += 1\n",
        "    midi_stream = stream.Stream(output_notes)\n",
        "    midi_stream.write('midi', fp='music.mid')\n",
        "    # Return midi_stream to make it accessible outside the function\n",
        "    return midi_stream\n",
        "\n",
        "# Call convert_to_midi and assign the result to midi_stream\n",
        "midi_stream = convert_to_midi(predicted_notes)\n",
        "\n",
        "# Now you can use midi_stream outside the function\n",
        "midi_stream.write('midi', fp='/content/drive/My Drive/music.mid')\n",
        "print(\"MIDI file saved to Google Drive.\")"
      ],
      "cell_type": "code",
      "metadata": {
        "id": "9ae1YZ1I4IT_"
      },
      "execution_count": null,
      "outputs": []
    },
    {
      "cell_type": "code",
      "source": [
        "import os\n",
        "from langchain.prompts import ChatPromptTemplate\n",
        "from langchain.chains import LLMChain\n",
        "from langchain_groq import ChatGroq\n",
        "from music21 import stream, note\n",
        "\n",
        "# Set your Groq API Key\n",
        "os.environ[\"GROQ_API_KEY\"] = \"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\"  # 🔒 (consider using env vars securely)\n",
        "\n",
        "# Function to generate MIDI notes\n",
        "def generate_music_notes_langchain():\n",
        "    chat = ChatGroq(model_name=\"llama3-8b-8192\", temperature=0.7)\n",
        "\n",
        "    prompt_template = ChatPromptTemplate.from_template(\n",
        "        \"You are a music AI that outputs a Python list of MIDI note integers (21 to 108). {input}\"\n",
        "    )\n",
        "\n",
        "    llm_chain = LLMChain(llm=chat, prompt=prompt_template)\n",
        "\n",
        "    prompt_input = {\n",
        "        \"input\": \"Generate a sequence of 32 random MIDI note integers between 21 and 108. for a happy birthday song\"\n",
        "    }\n",
        "    generated = llm_chain.run(prompt_input)\n",
        "\n",
        "    try:\n",
        "        cleaned = generated.strip().replace(\"```python\", \"\").replace(\"```\", \"\").strip()\n",
        "        if \"[\" in cleaned and \"]\" in cleaned:\n",
        "            list_str = cleaned[cleaned.find(\"[\"):cleaned.find(\"]\")+1]\n",
        "            music_notes = eval(list_str)\n",
        "        else:\n",
        "            music_notes = [int(note.strip()) for note in cleaned.split(',')]\n",
        "    except Exception as e:\n",
        "        print(\"Error while parsing:\", e)\n",
        "        print(\"Generated content:\", generated)\n",
        "        music_notes = []\n",
        "\n",
        "    return music_notes\n",
        "\n",
        "# Function to convert list to MIDI\n",
        "def convert_to_midi(note_int_list, duration=0.5):\n",
        "    midi_stream = stream.Stream()\n",
        "    for n in note_int_list:\n",
        "        if 21 <= n <= 108:\n",
        "            new_note = note.Note(n)\n",
        "            new_note.quarterLength = duration\n",
        "            midi_stream.append(new_note)\n",
        "        else:\n",
        "            print(f\"Skipped invalid MIDI note: {n}\")\n",
        "    return midi_stream\n",
        "\n",
        "# 🎵 Generate + Convert\n",
        "predicted_notes = generate_music_notes_langchain()\n",
        "print(\"Generated music notes (as integers):\")\n",
        "print(predicted_notes)\n",
        "\n",
        "midi_stream = convert_to_midi(predicted_notes)\n",
        "\n",
        "# 💾 Save MIDI\n",
        "midi_stream.write('midi', fp='/content/music.mid')\n",
        "print(\"✅ MIDI file saved to Google Drive.\")\n"
      ],
      "metadata": {
        "colab": {
          "base_uri": "https://localhost:8080/"
        },
        "id": "NLxBc-GaEPFZ",
        "outputId": "cb5e6102-a91b-4630-e8ae-8a8ef11ea47c"
      },
      "execution_count": null,
      "outputs": [
        {
          "output_type": "stream",
          "name": "stdout",
          "text": [
            "Generated music notes (as integers):\n",
            "[69, 72, 65, 60, 64, 71, 74, 78, 83, 87, 91, 55, 59, 62, 65, 71, 73, 76, 80, 84, 88, 93, 97, 101, 72, 76, 80, 84, 89, 93, 97]\n",
            "✅ MIDI file saved to Google Drive.\n"
          ]
        }
      ]
    },
    {
      "cell_type": "code",
      "source": [
        "from music21 import stream, note, chord\n",
        "\n",
        "def advanced_happy_birthday_midi():\n",
        "    s = stream.Stream()\n",
        "\n",
        "    # Helper to add note\n",
        "    def add_note(pitch, duration=0.5):\n",
        "        n = note.Note(pitch)\n",
        "        n.quarterLength = duration\n",
        "        s.append(n)\n",
        "\n",
        "    # Helper to add chord\n",
        "    def add_chord(pitches, duration=0.5):\n",
        "        c = chord.Chord(pitches)\n",
        "        c.quarterLength = duration\n",
        "        s.append(c)\n",
        "\n",
        "    # Line 1: Happy Birthday to You\n",
        "    add_note(64); add_note(64); add_note(66); add_note(64); add_note(69); add_note(68)\n",
        "\n",
        "    # Chord: C major\n",
        "    add_chord([60, 64, 67], duration=1)\n",
        "\n",
        "    # Line 2: Happy Birthday to You\n",
        "    add_note(64); add_note(64); add_note(66); add_note(64); add_note(71); add_note(69)\n",
        "\n",
        "    # Chord: F major\n",
        "    add_chord([65, 69, 72], duration=1)\n",
        "\n",
        "    # Line 3: Happy Birthday dear [Name]\n",
        "    add_note(64); add_note(64); add_note(76); add_note(73); add_note(69); add_note(68); add_note(66)\n",
        "\n",
        "    # Chord: G major\n",
        "    add_chord([67, 71, 74], duration=1)\n",
        "\n",
        "    # Line 4: Happy Birthday to You\n",
        "    add_note(74); add_note(74); add_note(73); add_note(69); add_note(71); add_note(69)\n",
        "\n",
        "    # Chord: C major\n",
        "    add_chord([60, 64, 67], duration=1)\n",
        "\n",
        "    # Ending: Mini flourish\n",
        "    add_note(72, 0.25); add_note(74, 0.25); add_note(76, 0.25); add_note(77, 0.5)\n",
        "\n",
        "    # Final C major chord (octave stacked)\n",
        "    add_chord([48, 60, 72], duration=2)  # Low C, Middle C, High C\n",
        "\n",
        "    return s\n"
      ],
      "metadata": {
        "id": "YQpD6uSqIDCH"
      },
      "execution_count": null,
      "outputs": []
    },
    {
      "cell_type": "code",
      "source": [
        "stream_result = advanced_happy_birthday_midi()\n",
        "stream_result.write('midi', fp='/content/happy_birthday_advanced.mid')\n",
        "print(\"🎉 Advanced Happy Birthday MIDI saved!\")\n"
      ],
      "metadata": {
        "colab": {
          "base_uri": "https://localhost:8080/"
        },
        "id": "V0fvRl_HHV_O",
        "outputId": "8279497d-d4af-4e0c-8a69-936ebc53f0f0"
      },
      "execution_count": null,
      "outputs": [
        {
          "output_type": "stream",
          "name": "stdout",
          "text": [
            "🎉 Advanced Happy Birthday MIDI saved!\n"
          ]
        }
      ]
    }
  ]
}